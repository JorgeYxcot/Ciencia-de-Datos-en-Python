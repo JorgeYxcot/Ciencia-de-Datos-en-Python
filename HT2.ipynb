{
 "cells": [
  {
   "attachments": {},
   "cell_type": "markdown",
   "metadata": {},
   "source": [
    "### Inciso 1"
   ]
  },
  {
   "attachments": {},
   "cell_type": "markdown",
   "metadata": {},
   "source": [
    "Haga un programa en Python que reciba de parámetro un número de segundos y que despliegue en pantalla, las horas, minutos y segundos que representan"
   ]
  },
  {
   "cell_type": "code",
   "execution_count": 21,
   "metadata": {
    "vscode": {
     "languageId": "python"
    }
   },
   "outputs": [
    {
     "name": "stdout",
     "output_type": "stream",
     "text": [
      "Los 5871 segundos ingresados, equivalen a 1 horas, con 37, minutos y 51, segundos.\n"
     ]
    }
   ],
   "source": [
    "segundos = int(input(\"Ingrese un número: \"))\n",
    "\n",
    "if(segundos > 1):\n",
    "    horas = segundos//3600\n",
    "    minutos = (segundos%3600)//60\n",
    "    segundos2 = segundos%60\n",
    "    print(\"Los {} segundos ingresados, equivalen a {} horas, con {}, minutos y {}, segundos.\".format(segundos,horas,minutos,segundos2))\n",
    "else:\n",
    "    print(f\"La cantidad ingresada, es 0 o no es válido.\")"
   ]
  },
  {
   "attachments": {},
   "cell_type": "markdown",
   "metadata": {},
   "source": [
    "### Inciso 2"
   ]
  },
  {
   "attachments": {},
   "cell_type": "markdown",
   "metadata": {},
   "source": [
    "Haga una función en Python que dado un número entre 1 y 20. Y un carácter cualquiera despliegue cuatro patrones triangulares"
   ]
  },
  {
   "cell_type": "code",
   "execution_count": 80,
   "metadata": {
    "vscode": {
     "languageId": "python"
    }
   },
   "outputs": [
    {
     "name": "stdout",
     "output_type": "stream",
     "text": [
      "+\n",
      "++\n",
      "+++\n",
      "++++\n",
      "+++++\n",
      "++++++\n",
      "+++++++\n",
      "++++++++\n",
      "+++++++++\n",
      "++++++++++\n",
      "----------\n",
      "++++++++++\n",
      "+++++++++\n",
      "++++++++\n",
      "+++++++\n",
      "++++++\n",
      "+++++\n",
      "++++\n",
      "+++\n",
      "++\n",
      "+\n",
      "----------\n",
      "         +\n",
      "        ++\n",
      "       +++\n",
      "      ++++\n",
      "     +++++\n",
      "    ++++++\n",
      "   +++++++\n",
      "  ++++++++\n",
      " +++++++++\n",
      "++++++++++\n",
      "----------\n",
      "++++++++++\n",
      " +++++++++\n",
      "  ++++++++\n",
      "   +++++++\n",
      "    ++++++\n",
      "     +++++\n",
      "      ++++\n",
      "       +++\n",
      "        ++\n",
      "         +\n",
      "----------\n"
     ]
    }
   ],
   "source": [
    "numero = int(input(\"Ingrese un número entre 1 y 20\"))\n",
    "\n",
    "if(numero >1 & numero<20):\n",
    "    caracter = str(input(\"Ingrese un caracter -cualquiera- a utilizar\"))\n",
    "    \n",
    "    for i in range (1,numero+1):\n",
    "        print(caracter*i)                \n",
    "    print (\"-\"*numero) #separador   \n",
    "    for i in range(numero, 0, -1):\n",
    "            print(caracter*i)\n",
    "    print (\"-\"*numero) #separador  \n",
    "    for i in range(1,numero+1):\n",
    "            print(' '*(numero-i) + caracter*i)\n",
    "    print (\"-\"*numero) #separador \n",
    "    for i in range(numero,0,-1):\n",
    "            print(' '*(numero-i) + caracter*i)\n",
    "    print (\"-\"*numero) #separador\n",
    "else:\n",
    "    print(\"El número ingresado ({}) , no es válido, favor ingresar un número entre 1 y 20\".format(numero))"
   ]
  },
  {
   "attachments": {},
   "cell_type": "markdown",
   "metadata": {},
   "source": [
    "### Inciso 3"
   ]
  },
  {
   "attachments": {},
   "cell_type": "markdown",
   "metadata": {},
   "source": [
    "Haga un programa en Python que la fecha de nacimiento de una persona (puede ingresar por separado cada valor, es decir pedir primero día, luego mes y luego año), despliegue la edad de la persona en años, meses y días. Su resultado puede ser aproximado"
   ]
  },
  {
   "cell_type": "code",
   "execution_count": 6,
   "metadata": {
    "vscode": {
     "languageId": "python"
    }
   },
   "outputs": [
    {
     "name": "stdout",
     "output_type": "stream",
     "text": [
      "El usuario tiene 28 años, 4 meses y 17 días\n"
     ]
    }
   ],
   "source": [
    "from datetime import date\n",
    "\n",
    "def edad(fecha_nacimiento):\n",
    "    fecha_actual = date.today()\n",
    "\n",
    "    resta = fecha_actual - fecha_nacimiento #esta será la función a usar\n",
    "\n",
    "    anios = resta.days // 365 #utilizamos los 365 para saber la cantidad de años \"cumplidos\"\n",
    "    resto = resta.days % 365 #esto nos indica el resto de días que no son considerados en el año\n",
    "    meses = resto //30 #cantidad exacta de meses\n",
    "    dias = resto % 30 #sobrante de los meses, es decir, los días.\n",
    "\n",
    "    return anios, meses, dias\n",
    "\n",
    "while (True):\n",
    "    fecha = input(\"Ingrese la fecha en formato DD/MM/AAAA: \")\n",
    "    partes = fecha.split(\"/\")\n",
    "    if (len(partes) !=3):\n",
    "        fecha = input(\"Formato incorrecto. Asegurese de usar '/' como separador, así : DD/MM/AAAA\")\n",
    "    else:\n",
    "        break\n",
    "partes = fecha.split(\"/\") #vuelve el input en una lista, al que podremos hacer referencia por partes más adelante\n",
    "dia_n, mes_n, anio_n = int(partes[0]), int(partes[1]), int(partes[2]) #agregando _n para delimitar que son las fechas de nacimiento.\n",
    "fecha_nacimiento = date(anio_n,mes_n,dia_n)\n",
    "\n",
    "anios, meses, dias = edad(fecha_nacimiento)\n",
    "print(\"El usuario tiene {} años, {} meses y {} días\".format(anios,meses,dias))"
   ]
  },
  {
   "attachments": {},
   "cell_type": "markdown",
   "metadata": {},
   "source": [
    "### Inciso 4"
   ]
  },
  {
   "attachments": {},
   "cell_type": "markdown",
   "metadata": {},
   "source": [
    "Escriba una función en Python que dada una tupla de elementos (números o letras) esta se convierta a un string."
   ]
  },
  {
   "cell_type": "code",
   "execution_count": 39,
   "metadata": {
    "vscode": {
     "languageId": "python"
    }
   },
   "outputs": [
    {
     "name": "stdout",
     "output_type": "stream",
     "text": [
      "(10, 20, 30, 40, 'Hola', 'Como', 'Estas', True, False)\n"
     ]
    },
    {
     "data": {
      "text/plain": [
       "tuple"
      ]
     },
     "execution_count": 39,
     "metadata": {},
     "output_type": "execute_result"
    }
   ],
   "source": [
    "tuple = (10,20,30,40,'Hola','Como','Estas',True,False)\n",
    "print (tuple)\n",
    "type(tuple) #Verificando que efectivamente sea tupla"
   ]
  },
  {
   "cell_type": "code",
   "execution_count": 42,
   "metadata": {
    "vscode": {
     "languageId": "python"
    }
   },
   "outputs": [
    {
     "name": "stdout",
     "output_type": "stream",
     "text": [
      "10203040HolaComoEstasTrueFalse\n"
     ]
    }
   ],
   "source": [
    "map(str,tuple)\n",
    "str_tup = ''.join(map(str, tuple))\n",
    "print (str_tup)"
   ]
  },
  {
   "attachments": {},
   "cell_type": "markdown",
   "metadata": {},
   "source": [
    "### Inciso 5"
   ]
  },
  {
   "attachments": {},
   "cell_type": "markdown",
   "metadata": {},
   "source": [
    "Cree un programa en Python que dada una lista de tuplas, elimine las tuplas que están vacías."
   ]
  },
  {
   "cell_type": "code",
   "execution_count": 50,
   "metadata": {
    "vscode": {
     "languageId": "python"
    }
   },
   "outputs": [
    {
     "name": "stdout",
     "output_type": "stream",
     "text": [
      "[(), (), ('X',), ('a', 'b'), ('a', 'b', 'c'), 'd']\n"
     ]
    },
    {
     "data": {
      "text/plain": [
       "tuple"
      ]
     },
     "execution_count": 50,
     "metadata": {},
     "output_type": "execute_result"
    }
   ],
   "source": [
    "lista = [(), (), ('X',), ('a', 'b'), ('a', 'b', 'c'), ('d')]\n",
    "print (lista)\n",
    "type(lista[0]) #Verificando que efectivamente sea tupla"
   ]
  },
  {
   "cell_type": "code",
   "execution_count": 53,
   "metadata": {
    "vscode": {
     "languageId": "python"
    }
   },
   "outputs": [
    {
     "name": "stdout",
     "output_type": "stream",
     "text": [
      "[('X',), ('a', 'b'), ('a', 'b', 'c'), 'd']\n"
     ]
    }
   ],
   "source": [
    "result = [tuple for tuple in lista if tuple] #el resultado incluirá únicamente aquellas tuplas que sean \"True\"\n",
    "print (result)"
   ]
  },
  {
   "attachments": {},
   "cell_type": "markdown",
   "metadata": {},
   "source": [
    "### Inciso 6"
   ]
  },
  {
   "attachments": {},
   "cell_type": "markdown",
   "metadata": {},
   "source": [
    "Cree una función en Python que dada una tupla de tuplas con números, produzca una tupla con el promedio de cada tupla individual."
   ]
  },
  {
   "cell_type": "code",
   "execution_count": 64,
   "metadata": {
    "vscode": {
     "languageId": "python"
    }
   },
   "outputs": [
    {
     "name": "stdout",
     "output_type": "stream",
     "text": [
      "[10.5, 44.0, 58.0]\n"
     ]
    }
   ],
   "source": [
    "tupla_tuplas = ((10, 10, 10, 12), (30, 45, 56, 45), (81, 80, 39, 32))\n",
    "promedios = []\n",
    "for tupla in tupla_tuplas:\n",
    "        promedio = sum(tupla) / len(tupla)\n",
    "        promedios.append(promedio)\n",
    "print (promedios)"
   ]
  },
  {
   "attachments": {},
   "cell_type": "markdown",
   "metadata": {},
   "source": [
    "### Inciso 7"
   ]
  },
  {
   "attachments": {},
   "cell_type": "markdown",
   "metadata": {},
   "source": [
    "Escribir un programa que gestione las facturas pendientes de cobro de una empresa. Las facturas se almacenarán en un diccionario donde la llave de cada factura será el número de\n",
    "factura (debe utilizar un numero de 4 dígitos) y el valor el coste de la factura. El programa debe preguntar al usuario si quiere añadir una nueva factura, pagar una existente o terminar. Si desea añadir una nueva factura se preguntará por el número de factura y su coste y se añadirá al diccionario, para confirmar que la factura se ingreso correctamente el programa debe desplegar el diccionario completo. Si se desea pagar una factura se preguntará por el número de factura y se eliminará del diccionario. Después de cada operación el programa debe mostrar en pantalla la cantidad cobrada hasta el momento y la cantidad pendiente de cobro. Puede utilizar otras estructuras de datos como apoyo si lo considera necesario."
   ]
  },
  {
   "cell_type": "code",
   "execution_count": 69,
   "metadata": {
    "vscode": {
     "languageId": "python"
    }
   },
   "outputs": [
    {
     "name": "stdout",
     "output_type": "stream",
     "text": [
      "Facturas actuales: {'4444': 1000.0}\n",
      "Monto cobrado hasta el momento: 1000.0\n",
      "Monto pendiente de cobro: 1000.0\n",
      "La factura número 4444 se ha pagado.\n",
      "Monto pagado: 1000.0\n",
      "Facturas pendientes: {}\n",
      "Monto cobrado hasta el momento: 0\n",
      "Monto pendiente de cobro: 0\n",
      "Facturas actuales: {'0000': 100000.0}\n",
      "Monto cobrado hasta el momento: 100000.0\n",
      "Monto pendiente de cobro: 100000.0\n",
      "Facturas actuales: {'0000': 100000.0, '1234': 100.0}\n",
      "Monto cobrado hasta el momento: 100100.0\n",
      "Monto pendiente de cobro: 100100.0\n",
      "Sesión finalizada.\n"
     ]
    }
   ],
   "source": [
    "#facturas = {} #definimos el diccionario\n",
    "\n",
    "while True:\n",
    "    opcion = input(\"¿Qué desea hacer? Añadir una factura (1), pagar una factura (2) o terminar (9): \")\n",
    "    \n",
    "    if opcion == \"1\":\n",
    "        numero_factura = input(\"Ingrese el número de factura (-4- dígitos): \")\n",
    "        while len(numero_factura) != 4:\n",
    "            numero_factura = input(\"El número de factura debe tener 4 dígitos, por favor ingrese 4 dígitos: \")\n",
    "        costo_factura = float(input(\"Ingrese el costo de la factura: \")) #consideramos un valor float para cantidades monetarias\n",
    "        facturas[numero_factura] = costo_factura\n",
    "        print(\"Facturas actuales:\", facturas)\n",
    "        \n",
    "    elif opcion == \"2\":\n",
    "        numero_factura = input(\"Ingrese el número de factura a pagar: \")\n",
    "        if numero_factura in facturas:\n",
    "            monto_pagado = facturas.pop(numero_factura)\n",
    "            print(\"La factura número\", numero_factura, \"se ha pagado.\")\n",
    "            print(\"Monto pagado:\", monto_pagado)\n",
    "            print(\"Facturas pendientes:\", facturas)\n",
    "        else:\n",
    "            print(\"La factura número\", numero_factura, \"no existe.\")\n",
    "            \n",
    "    elif opcion == \"9\":\n",
    "        print(\"Sesión finalizada.\")\n",
    "        break\n",
    "        \n",
    "    else:\n",
    "        print(\"Opción no válida. ¿Qué desea hacer? Añadir una factura (1), pagar una factura (2) o terminar (9)\")\n",
    "        \n",
    "    monto_cobrado = sum(facturas.values())\n",
    "    print(\"Monto cobrado hasta el momento:\", monto_cobrado)\n",
    "    print(\"Monto pendiente de cobro:\", sum(facturas.values()))\n"
   ]
  },
  {
   "cell_type": "code",
   "execution_count": 70,
   "metadata": {
    "vscode": {
     "languageId": "python"
    }
   },
   "outputs": [
    {
     "name": "stdout",
     "output_type": "stream",
     "text": [
      "{'0000': 100000.0, '1234': 100.0}\n"
     ]
    }
   ],
   "source": [
    "print (facturas)"
   ]
  },
  {
   "cell_type": "code",
   "execution_count": null,
   "metadata": {
    "vscode": {
     "languageId": "python"
    }
   },
   "outputs": [],
   "source": []
  }
 ],
 "metadata": {
  "kernelspec": {
   "display_name": "Python 3 (ipykernel)",
   "language": "python",
   "name": "python3"
  },
  "orig_nbformat": 4
 },
 "nbformat": 4,
 "nbformat_minor": 2
}
