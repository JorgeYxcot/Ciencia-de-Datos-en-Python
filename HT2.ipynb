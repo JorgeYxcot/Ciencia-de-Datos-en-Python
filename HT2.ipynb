{
 "cells": [
  {
   "attachments": {},
   "cell_type": "markdown",
   "metadata": {},
   "source": [
    "### Inciso 1"
   ]
  },
  {
   "attachments": {},
   "cell_type": "markdown",
   "metadata": {},
   "source": [
    "Haga un programa en Python que reciba de parámetro un número de segundos y que despliegue en pantalla, las horas, minutos y segundos que representan"
   ]
  },
  {
   "cell_type": "code",
   "execution_count": 21,
   "metadata": {},
   "outputs": [
    {
     "name": "stdout",
     "output_type": "stream",
     "text": [
      "Los 5871 segundos ingresados, equivalen a 1 horas, con 37, minutos y 51, segundos.\n"
     ]
    }
   ],
   "source": [
    "segundos = int(input(\"Ingrese un número: \"))\n",
    "\n",
    "if(segundos > 1):\n",
    "    horas = segundos//3600\n",
    "    minutos = (segundos%3600)//60\n",
    "    segundos2 = segundos%60\n",
    "    print(\"Los {} segundos ingresados, equivalen a {} horas, con {}, minutos y {}, segundos.\".format(segundos,horas,minutos,segundos2))\n",
    "else:\n",
    "    print(\"La cantidad ingresada, es 0 o no es válido.\")"
   ]
  },
  {
   "attachments": {},
   "cell_type": "markdown",
   "metadata": {},
   "source": [
    "### Inciso 2"
   ]
  },
  {
   "attachments": {},
   "cell_type": "markdown",
   "metadata": {},
   "source": [
    "Haga una función en Python que dado un número entre 1 y 20. Y un carácter cualquiera despliegue cuatro patrones triangulares"
   ]
  },
  {
   "cell_type": "code",
   "execution_count": 80,
   "metadata": {},
   "outputs": [
    {
     "name": "stdout",
     "output_type": "stream",
     "text": [
      "+\n",
      "++\n",
      "+++\n",
      "++++\n",
      "+++++\n",
      "++++++\n",
      "+++++++\n",
      "++++++++\n",
      "+++++++++\n",
      "++++++++++\n",
      "----------\n",
      "++++++++++\n",
      "+++++++++\n",
      "++++++++\n",
      "+++++++\n",
      "++++++\n",
      "+++++\n",
      "++++\n",
      "+++\n",
      "++\n",
      "+\n",
      "----------\n",
      "         +\n",
      "        ++\n",
      "       +++\n",
      "      ++++\n",
      "     +++++\n",
      "    ++++++\n",
      "   +++++++\n",
      "  ++++++++\n",
      " +++++++++\n",
      "++++++++++\n",
      "----------\n",
      "++++++++++\n",
      " +++++++++\n",
      "  ++++++++\n",
      "   +++++++\n",
      "    ++++++\n",
      "     +++++\n",
      "      ++++\n",
      "       +++\n",
      "        ++\n",
      "         +\n",
      "----------\n"
     ]
    }
   ],
   "source": [
    "numero = int(input(\"Ingrese un número entre 1 y 20\"))\n",
    "\n",
    "if(numero >1 & numero<20):\n",
    "    caracter = str(input(\"Ingrese un caracter -cualquiera- a utilizar\"))\n",
    "    \n",
    "    for i in range (1,numero+1):\n",
    "        print(caracter*i)                \n",
    "    print (\"-\"*numero) #separador   \n",
    "    for i in range(numero, 0, -1):\n",
    "            print(caracter*i)\n",
    "    print (\"-\"*numero) #separador  \n",
    "    for i in range(1,numero+1):\n",
    "            print(' '*(numero-i) + caracter*i)\n",
    "    print (\"-\"*numero) #separador \n",
    "    for i in range(numero,0,-1):\n",
    "            print(' '*(numero-i) + caracter*i)\n",
    "    print (\"-\"*numero) #separador\n",
    "else:\n",
    "    print(\"El número ingresado ({}) , no es válido, favor ingresar un número entre 1 y 20\".format(numero))"
   ]
  },
  {
   "attachments": {},
   "cell_type": "markdown",
   "metadata": {},
   "source": [
    "### Inciso 3"
   ]
  },
  {
   "attachments": {},
   "cell_type": "markdown",
   "metadata": {},
   "source": [
    "Haga un programa en Python que la fecha de nacimiento de una persona (puede ingresar por separado cada valor, es decir pedir primero día, luego mes y luego año), despliegue la edad de la persona en años, meses y días. Su resultado puede ser aproximado"
   ]
  },
  {
   "cell_type": "code",
   "execution_count": 6,
   "metadata": {},
   "outputs": [
    {
     "name": "stdout",
     "output_type": "stream",
     "text": [
      "El usuario tiene 28 años, 4 meses y 17 días\n"
     ]
    }
   ],
   "source": [
    "from datetime import date\n",
    "\n",
    "def edad(fecha_nacimiento):\n",
    "    fecha_actual = date.today()\n",
    "\n",
    "    resta = fecha_actual - fecha_nacimiento #esta será la función a usar\n",
    "\n",
    "    anios = resta.days // 365 #utilizamos los 365 para saber la cantidad de años \"cumplidos\"\n",
    "    resto = resta.days % 365 #esto nos indica el resto de días que no son considerados en el año\n",
    "    meses = resto //30 #cantidad exacta de meses\n",
    "    dias = resto % 30 #sobrante de los meses, es decir, los días.\n",
    "\n",
    "    return anios, meses, dias\n",
    "\n",
    "while (True):\n",
    "    fecha = input(\"Ingrese la fecha en formato DD/MM/AAAA: \")\n",
    "    partes = fecha.split(\"/\")\n",
    "    if (len(partes) !=3):\n",
    "        fecha = input(\"Formato incorrecto. Asegurese de usar '/' como separador, así : DD/MM/AAAA\")\n",
    "    else:\n",
    "        break\n",
    "partes = fecha.split(\"/\") #vuelve el input en una lista, al que podremos hacer referencia por partes más adelante\n",
    "dia_n, mes_n, anio_n = int(partes[0]), int(partes[1]), int(partes[2]) #agregando _n para delimitar que son las fechas de nacimiento.\n",
    "fecha_nacimiento = date(anio_n,mes_n,dia_n)\n",
    "\n",
    "anios, meses, dias = edad(fecha_nacimiento)\n",
    "print(\"El usuario tiene {} años, {} meses y {} días\".format(anios,meses,dias))"
   ]
  },
  {
   "attachments": {},
   "cell_type": "markdown",
   "metadata": {},
   "source": [
    "### Inciso 4"
   ]
  },
  {
   "attachments": {},
   "cell_type": "markdown",
   "metadata": {},
   "source": [
    "Escriba una función en Python que dada una tupla de elementos (números o letras) esta se convierta a un string."
   ]
  },
  {
   "cell_type": "code",
   "execution_count": 39,
   "metadata": {},
   "outputs": [
    {
     "name": "stdout",
     "output_type": "stream",
     "text": [
      "(10, 20, 30, 40, 'Hola', 'Como', 'Estas', True, False)\n"
     ]
    },
    {
     "data": {
      "text/plain": [
       "tuple"
      ]
     },
     "execution_count": 39,
     "metadata": {},
     "output_type": "execute_result"
    }
   ],
   "source": [
    "tuple = (10,20,30,40,'Hola','Como','Estas',True,False)\n",
    "print (tuple)\n",
    "type(tuple) #Verificando que efectivamente sea tupla"
   ]
  },
  {
   "cell_type": "code",
   "execution_count": 42,
   "metadata": {},
   "outputs": [
    {
     "name": "stdout",
     "output_type": "stream",
     "text": [
      "10203040HolaComoEstasTrueFalse\n"
     ]
    }
   ],
   "source": [
    "map(str,tuple)\n",
    "str_tup = ''.join(map(str, tuple))\n",
    "print (str_tup)"
   ]
  },
  {
   "attachments": {},
   "cell_type": "markdown",
   "metadata": {},
   "source": [
    "### Inciso 5"
   ]
  },
  {
   "attachments": {},
   "cell_type": "markdown",
   "metadata": {},
   "source": [
    "Cree un programa en Python que dada una lista de tuplas, elimine las tuplas que están vacías."
   ]
  },
  {
   "cell_type": "code",
   "execution_count": 50,
   "metadata": {},
   "outputs": [
    {
     "name": "stdout",
     "output_type": "stream",
     "text": [
      "[(), (), ('X',), ('a', 'b'), ('a', 'b', 'c'), 'd']\n"
     ]
    },
    {
     "data": {
      "text/plain": [
       "tuple"
      ]
     },
     "execution_count": 50,
     "metadata": {},
     "output_type": "execute_result"
    }
   ],
   "source": [
    "lista = [(), (), ('X',), ('a', 'b'), ('a', 'b', 'c'), ('d')]\n",
    "print (lista)\n",
    "type(lista[0]) #Verificando que efectivamente sea tupla"
   ]
  },
  {
   "cell_type": "code",
   "execution_count": 53,
   "metadata": {},
   "outputs": [
    {
     "name": "stdout",
     "output_type": "stream",
     "text": [
      "[('X',), ('a', 'b'), ('a', 'b', 'c'), 'd']\n"
     ]
    }
   ],
   "source": [
    "result = [tuple for tuple in lista if tuple] #el resultado incluirá únicamente aquellas tuplas que sean \"True\"\n",
    "print (result)"
   ]
  },
  {
   "attachments": {},
   "cell_type": "markdown",
   "metadata": {},
   "source": [
    "### Inciso 6"
   ]
  },
  {
   "attachments": {},
   "cell_type": "markdown",
   "metadata": {},
   "source": [
    "Cree una función en Python que dada una tupla de tuplas con números, produzca una tupla con el promedio de cada tupla individual."
   ]
  },
  {
   "cell_type": "code",
   "execution_count": 64,
   "metadata": {},
   "outputs": [
    {
     "name": "stdout",
     "output_type": "stream",
     "text": [
      "[10.5, 44.0, 58.0]\n"
     ]
    }
   ],
   "source": [
    "tupla_tuplas = ((10, 10, 10, 12), (30, 45, 56, 45), (81, 80, 39, 32))\n",
    "promedios = []\n",
    "for tupla in tupla_tuplas:\n",
    "        promedio = sum(tupla) / len(tupla)\n",
    "        promedios.append(promedio)\n",
    "print (promedios)"
   ]
  },
  {
   "attachments": {},
   "cell_type": "markdown",
   "metadata": {},
   "source": [
    "### Inciso 7"
   ]
  },
  {
   "attachments": {},
   "cell_type": "markdown",
   "metadata": {},
   "source": [
    "Escribir un programa que gestione las facturas pendientes de cobro de una empresa. Las facturas se almacenarán en un diccionario donde la llave de cada factura será el número de\n",
    "factura (debe utilizar un numero de 4 dígitos) y el valor el coste de la factura. El programa debe preguntar al usuario si quiere añadir una nueva factura, pagar una existente o terminar. Si desea añadir una nueva factura se preguntará por el número de factura y su coste y se añadirá al diccionario, para confirmar que la factura se ingreso correctamente el programa debe desplegar el diccionario completo. Si se desea pagar una factura se preguntará por el número de factura y se eliminará del diccionario. Después de cada operación el programa debe mostrar en pantalla la cantidad cobrada hasta el momento y la cantidad pendiente de cobro. Puede utilizar otras estructuras de datos como apoyo si lo considera necesario."
   ]
  },
  {
   "cell_type": "code",
   "execution_count": 3,
   "metadata": {},
   "outputs": [
    {
     "name": "stdout",
     "output_type": "stream",
     "text": [
      "Opción no válida. ¿Qué desea hacer? Añadir una factura (1), pagar una factura (2) o terminar (9)\n",
      "Monto cobrado hasta el momento: 0\n",
      "Monto pendiente de cobro: 0\n",
      "Opción no válida. ¿Qué desea hacer? Añadir una factura (1), pagar una factura (2) o terminar (9)\n",
      "Monto cobrado hasta el momento: 0\n",
      "Monto pendiente de cobro: 0\n",
      "Facturas actuales: {'1234': 100.0}\n",
      "Monto cobrado hasta el momento: 100.0\n",
      "Monto pendiente de cobro: 100.0\n",
      "Facturas actuales: {'1234': 100.0}\n",
      "Monto cobrado hasta el momento: 100.0\n",
      "Monto pendiente de cobro: 100.0\n",
      "La factura con número 1234 se ha pagado.\n",
      "Monto pagado: 100.0\n",
      "Facturas pendientes: {}\n",
      "Monto cobrado hasta el momento: 0\n",
      "Monto pendiente de cobro: 0\n",
      "Sesión finalizada.\n"
     ]
    }
   ],
   "source": [
    "facturas = {} #se crea un set\n",
    "while True:\n",
    "    opcion = input(\"Seleccione una opción: Añadir una factura (1), pagar una factura (2) o terminar (9)\")\n",
    "    \n",
    "    if opcion == \"1\":\n",
    "        num_factura = input(\"Ingrese el número de factura (-4- dígitos): \")\n",
    "        while len(num_factura) != 4:\n",
    "            num_factura = input(\"El número de factura debe tener 4 dígitos, por favor ingrese 4 dígitos: \")\n",
    "        costo_factura = float(input(\"Ingrese el costo de la factura: \")) #consideramos un valor float para cantidades monetarias\n",
    "        facturas[num_factura] = costo_factura\n",
    "        print(\"Facturas actuales:\", facturas)\n",
    "        \n",
    "    elif opcion == \"2\":\n",
    "        num_factura = input(\"Ingrese el número de la factura a cancelar: \")\n",
    "        if num_factura in facturas: #se busca el número de la factura en la librería facturas\n",
    "            pagado = facturas.pop(num_factura) #la función pop, elimina un item de la lista\n",
    "            print(\"La factura número\", num_factura, \"se ha pagado.\")\n",
    "            print(\"Monto pagado:\", pagado)\n",
    "            print(\"Facturas pendientes:\", facturas)\n",
    "        else:\n",
    "            print(\"La factura número\", num_factura, \"no existe.\")\n",
    "            \n",
    "    elif opcion == \"9\":\n",
    "        print(\"Sesión finalizada.\")\n",
    "        break\n",
    "        \n",
    "    else:\n",
    "        print(\"Opción no válida. Para: Añadir una factura (1), pagar una factura (2) o terminar (9)\")\n",
    "        \n",
    "    cobrado = sum(facturas.values()) #utilizamos facturas.values para referirnos únicamente a la parte de la cantidad y no el id\n",
    "    print(\"Monto cobrado hasta el momento:\", cobrado)\n",
    "    print(\"Monto pendiente de cobro:\", sum(facturas.values()))\n"
   ]
  },
  {
   "attachments": {},
   "cell_type": "markdown",
   "metadata": {},
   "source": [
    "### Inciso 8"
   ]
  },
  {
   "attachments": {},
   "cell_type": "markdown",
   "metadata": {},
   "source": [
    "Haga una función en Python, que cree un set con todas las cartas de una baraja de Poker utilizando el siguiente formato: Tipo-Numero. Utilice las letras T para tréboles, C para\n",
    "corazones, P para picas y E para espadas. Para los números utilice la numeración del 1 al 13. Por ejemplo E13 - sería Rey de Espadas, P01 sería As de Picas, T05 sería cinco de Tréboles. Posteriormente cree una función que dado el conjunto anterior cree dos sets nuevos de cartas, cada conjunto debe tener una cantidad variable de elementos, puede utilizar números aleatorios enteros para definir la longitud de los conjuntos. Adicionalmente, debería calcular la probabilidad de la intersección de ambos conjuntos y demuestre si son eventos independientes con la regla del producto. Para concluir, calcule probabilidad de la unión de ambos conjuntos y demuestre que se cumple la regla de la adición"
   ]
  },
  {
   "cell_type": "code",
   "execution_count": 29,
   "metadata": {},
   "outputs": [
    {
     "name": "stdout",
     "output_type": "stream",
     "text": [
      "{'T01', 'E08', 'T12', 'C01', 'C06', 'C09', 'P11', 'P08', 'T13', 'C11', 'E11', 'E05', 'P07', 'T09', 'C08', 'P04', 'E06', 'T07', 'C10', 'C12', 'C07', 'P03', 'T05', 'C03', 'C02', 'E04', 'E03', 'P05', 'T08', 'E12', 'T04', 'C13', 'E09', 'C04', 'T11', 'P09', 'E01', 'E07', 'P12', 'T02', 'T03', 'P10', 'C05', 'P02', 'P06', 'E13', 'E02', 'P01', 'E10', 'P13', 'T06', 'T10'}\n"
     ]
    }
   ],
   "source": [
    "import random\n",
    "tipos = ['T', 'C', 'P', 'E'] #T para tréboles, C para corazones, P para picas y E para espadas\n",
    "numeros = ['01', '02', '03', '04', '05', '06', '07', '08', '09', '10', '11', '12', '13']\n",
    "baraja = set() # Los elementos de un set son único, lo que significa que no puede haber elementos duplicados.\n",
    "for tipo in tipos:\n",
    "    for numero in numeros:\n",
    "        baraja.add(tipo + numero)\n",
    "print (baraja)"
   ]
  },
  {
   "cell_type": "code",
   "execution_count": 30,
   "metadata": {},
   "outputs": [
    {
     "name": "stdout",
     "output_type": "stream",
     "text": [
      "{'T01', 'E08', 'T12', 'P11', 'T10', 'C01', 'C09', 'E11', 'T13', 'C11', 'C06', 'E05', 'P07', 'T09', 'C08', 'P04', 'E06', 'T07', 'C10', 'C12', 'P03', 'C07', 'T05', 'E04', 'C03', 'C02', 'E03', 'P05', 'T08', 'E12', 'T04', 'C13', 'E09', 'C04', 'P09', 'T11', 'E01', 'E07', 'P12', 'T02', 'P10', 'T03', 'C05', 'P02', 'P06', 'E13', 'E02', 'P01', 'E10', 'P13', 'T06', 'P08'} {'T01', 'E08', 'T12', 'P11', 'C01', 'C09', 'C06', 'E11', 'P08', 'C11', 'T13', 'E05', 'P07', 'T09', 'C08', 'P04', 'E06', 'T07', 'C10', 'C12', 'P03', 'C07', 'T05', 'C03', 'E04', 'C02', 'E03', 'E12', 'P05', 'T08', 'T04', 'C13', 'E09', 'P09', 'T11', 'E01', 'C04', 'E07', 'P12', 'T02', 'T03', 'P10', 'P02', 'C05', 'P06', 'E13', 'E02', 'P01', 'E10', 'P13', 'T06', 'T10'}\n"
     ]
    }
   ],
   "source": [
    "conjunto1 = random.randint(1, len(baraja)) # longitud del primer conjunto\n",
    "conjunto2 = random.randint(1, len(baraja) - conjunto1) # longitud del segundo conjunto\n",
    "\n",
    "conjunto1 = set(random.sample(list(baraja), k=len(baraja)))\n",
    "conjunto2 = set(random.sample(list(baraja), k=len(baraja)))\n",
    "print(conjunto1, conjunto2)"
   ]
  },
  {
   "cell_type": "code",
   "execution_count": 32,
   "metadata": {},
   "outputs": [
    {
     "name": "stdout",
     "output_type": "stream",
     "text": [
      "Los eventos son independientes\n",
      "La regla de la adición se cumple\n",
      "Probabilidad de la intersección del conjunto 1 es:1.0 y del conjunto 2: 1.0\n"
     ]
    }
   ],
   "source": [
    "interseccion = conjunto1 & conjunto2\n",
    "p_interseccion = len(interseccion) / len(baraja)\n",
    "p_independientes = len(conjunto1) / len(baraja) * len(conjunto2) / len(baraja)\n",
    "union = conjunto1 | conjunto2\n",
    "p_union = len(union) / len(baraja)\n",
    "\n",
    "if p_independientes == p_interseccion:\n",
    "    print(\"Los eventos son independientes\")\n",
    "else:\n",
    "    print(\"Los eventos no son independientes\")\n",
    "if p_union == p_interseccion + len(conjunto1 - conjunto2) / len(baraja) + len(conjunto2 - conjunto1) / len(baraja):\n",
    "    print(\"La regla de la adición se cumple\")\n",
    "else:\n",
    "    print(\"La regla de la adición no se cumple\")\n",
    "print(\"Probabilidad de la intersección del conjunto 1 es:{} y del conjunto 2: {}\".format(p_interseccion, p_union))"
   ]
  }
 ],
 "metadata": {
  "kernelspec": {
   "display_name": "Python 3",
   "language": "python",
   "name": "python3"
  },
  "language_info": {
   "codemirror_mode": {
    "name": "ipython",
    "version": 3
   },
   "file_extension": ".py",
   "mimetype": "text/x-python",
   "name": "python",
   "nbconvert_exporter": "python",
   "pygments_lexer": "ipython3",
   "version": "3.10.4"
  },
  "orig_nbformat": 4,
  "vscode": {
   "interpreter": {
    "hash": "3ad933181bd8a04b432d3370b9dc3b0662ad032c4dfaa4e4f1596c548f763858"
   }
  }
 },
 "nbformat": 4,
 "nbformat_minor": 2
}
